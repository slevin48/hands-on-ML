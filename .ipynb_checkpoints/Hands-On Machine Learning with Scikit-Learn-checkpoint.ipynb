{
 "cells": [
  {
   "attachments": {},
   "cell_type": "markdown",
   "metadata": {},
   "source": [
    "# Hands-On Machine Learning with Scikit-Learn\n",
    "https://www.amazon.fr/dp/B07XGF2G87\n",
    "![hands-on-ML.png](hands-on-ML.png)"
   ]
  },
  {
   "cell_type": "markdown",
   "metadata": {},
   "source": [
    "### Full book\n",
    "https://www.lpsm.paris/pageperso/has/source/Hand-on-ML.pdf\n",
    "### Notebook examples\n",
    "https://github.com/ageron/handson-ml"
   ]
  },
  {
   "cell_type": "markdown",
   "metadata": {},
   "source": [
    "## Working with Real Data"
   ]
  },
  {
   "cell_type": "markdown",
   "metadata": {},
   "source": [
    "* Popular open data repositories:\n",
    "— [UC Irvine Machine Learning Repository](http://archive.ics.uci.edu/ml/index.php)\n",
    "— [Kaggle datasets](https://www.kaggle.com/datasets)\n",
    "— [Amazon’s AWS datasets](https://registry.opendata.aws/)\n",
    "* Meta portals (they list open data repositories):\n",
    "— http://dataportals.org/\n",
    "— http://opendatamonitor.eu/\n",
    "— http://quandl.com/\n",
    "* Other pages listing many popular open data repositories:\n",
    "— [Wikipedia’s list of Machine Learning datasets](https://en.wikipedia.org/wiki/List_of_datasets_for_machine-learning_research)\n",
    "— [Quora.com question](https://www.quora.com/Where-can-I-find-large-datasets-open-to-the-public)\n",
    "— [Datasets subreddit](https://www.reddit.com/r/datasets/)"
   ]
  },
  {
   "attachments": {},
   "cell_type": "markdown",
   "metadata": {},
   "source": [
    "![calpop.png](calpop.png)"
   ]
  }
 ],
 "metadata": {
  "kernelspec": {
   "display_name": "Python 3",
   "language": "python",
   "name": "python3"
  },
  "language_info": {
   "codemirror_mode": {
    "name": "ipython",
    "version": 3
   },
   "file_extension": ".py",
   "mimetype": "text/x-python",
   "name": "python",
   "nbconvert_exporter": "python",
   "pygments_lexer": "ipython3",
   "version": "3.7.6"
  }
 },
 "nbformat": 4,
 "nbformat_minor": 4
}
